{
 "cells": [
  {
   "cell_type": "code",
   "execution_count": null,
   "metadata": {},
   "outputs": [],
   "source": [
    "# 初始数值\n",
    "n = 1\n",
    "# 加成 乘算\n",
    "nX = 1\n",
    "# 附加数值 加算\n",
    "nAdd = 0.25\n",
    "\n",
    "nNum = n+nAdd\n",
    "\n",
    "#最终结果\n",
    "finalN = \n"
   ]
  }
 ],
 "metadata": {
  "language_info": {
   "name": "python"
  },
  "orig_nbformat": 4
 },
 "nbformat": 4,
 "nbformat_minor": 2
}
